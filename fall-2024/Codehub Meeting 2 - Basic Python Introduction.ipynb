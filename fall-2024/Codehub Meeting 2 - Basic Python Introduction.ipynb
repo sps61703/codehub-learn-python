{
 "cells": [
  {
   "cell_type": "markdown",
   "id": "15bfa023",
   "metadata": {},
   "source": [
    "## Intro to Python\n",
    "\n",
    "**Our goal is to get acclimated with the basic syntax of Python, the way I'm going to teach it is that we're picking up the \"grammar\" as we go along doing different things with the language. Today, we're starting super simple with storing primitive data into variables and printing messages to the console, and then if we have time getting more fun from there.**\n",
    "\n",
    "### Calculator on Steroids\n",
    "\n",
    "A pretty basic function of programming languages is to store data for you and do arithmetic calculations. Most languages get pretty hefty and make you define exactly what kind of variable you're storing, but Python's smarter and can pick up what you mean based on context clues.\n",
    "\n",
    "So, let's imagine a fairly basic scenario that we could otherwise use a pen, paper, and four-function calculator for, and then try to write the code for those tasks. **I want to write a sentence that describes my weekly budget for groceries.** Let's pretend for some reason I just want one, simple sentence describing what I want to do.\n",
    "\n",
    "First, I want to store the different things I have to buy. I really only have to run a small trip for Dr. Pepper, bread, and cheese. On a sheet of paper, I might write something like this:\n",
    "\n",
    "1. Dr. Pepper - \\$4\n",
    "2. Bread - \\$7 (i like croissant bread from Kroger and trust me it's worth it)\n",
    "3. Mozzarella Pearls - \\$3\n",
    "\n",
    "The same way we translate between languages like English and Spanish, you can translate this information to Python! The typical syntax is `[variable name] = [some value]`. In Python, watch what happens when you try to write spaced out words:"
   ]
  },
  {
   "cell_type": "code",
   "execution_count": 1,
   "id": "bcf8a96e",
   "metadata": {},
   "outputs": [
    {
     "ename": "SyntaxError",
     "evalue": "invalid syntax (4262408784.py, line 1)",
     "output_type": "error",
     "traceback": [
      "\u001b[0;36m  Cell \u001b[0;32mIn[1], line 1\u001b[0;36m\u001b[0m\n\u001b[0;31m    dr pepper = 4\u001b[0m\n\u001b[0m       ^\u001b[0m\n\u001b[0;31mSyntaxError\u001b[0m\u001b[0;31m:\u001b[0m invalid syntax\n"
     ]
    }
   ],
   "source": [
    "dr pepper = 4"
   ]
  },
  {
   "cell_type": "markdown",
   "id": "305b8759",
   "metadata": {},
   "source": [
    "So, we have to follow the valid syntax that Python can understand: `variable_name = [some value]`. Let's try to store Dr. Pepper again:"
   ]
  },
  {
   "cell_type": "code",
   "execution_count": 4,
   "id": "769a44c3",
   "metadata": {},
   "outputs": [
    {
     "data": {
      "text/plain": [
       "4"
      ]
     },
     "execution_count": 4,
     "metadata": {},
     "output_type": "execute_result"
    }
   ],
   "source": [
    "dr_pepper = 4\n",
    "dr_pepper"
   ]
  },
  {
   "cell_type": "markdown",
   "id": "65068175",
   "metadata": {},
   "source": [
    "It doesn't give us issues! We'll get more specific about printing values out to the console in a bit, but what the number means depends on context that we get to define. We know our context is calculating a budget, so the number refers to price/money value. We'll get fancier with units in later weeks, but for now just believe we're only working with money and keep it kosher.\n",
    "\n",
    "So, let's store our other values as well. Jupyter Notebook stores between values unless you reset your kernel/runtime (think of it as active short term memory). So `dr_pepper` is still equal to 4."
   ]
  },
  {
   "cell_type": "code",
   "execution_count": 5,
   "id": "d6332b32",
   "metadata": {},
   "outputs": [
    {
     "data": {
      "text/plain": [
       "3"
      ]
     },
     "execution_count": 5,
     "metadata": {},
     "output_type": "execute_result"
    }
   ],
   "source": [
    "croissant_bread = 7\n",
    "mozzarella = 3"
   ]
  },
  {
   "cell_type": "code",
   "execution_count": 7,
   "id": "dce530f6",
   "metadata": {},
   "outputs": [
    {
     "data": {
      "text/plain": [
       "4"
      ]
     },
     "execution_count": 7,
     "metadata": {},
     "output_type": "execute_result"
    }
   ],
   "source": [
    "dr_pepper"
   ]
  },
  {
   "cell_type": "code",
   "execution_count": 8,
   "id": "e22434ad",
   "metadata": {},
   "outputs": [
    {
     "data": {
      "text/plain": [
       "7"
      ]
     },
     "execution_count": 8,
     "metadata": {},
     "output_type": "execute_result"
    }
   ],
   "source": [
    "croissant_bread"
   ]
  },
  {
   "cell_type": "code",
   "execution_count": 9,
   "id": "be9d3e68",
   "metadata": {},
   "outputs": [
    {
     "data": {
      "text/plain": [
       "3"
      ]
     },
     "execution_count": 9,
     "metadata": {},
     "output_type": "execute_result"
    }
   ],
   "source": [
    "mozzarella"
   ]
  },
  {
   "cell_type": "markdown",
   "id": "002a947a",
   "metadata": {},
   "source": [
    "Now, what if we want to know what the total budget is? Do we have to calculate it and then store it as a total?\n",
    "\n",
    "Nope! Coding is cool because it'll do the math for you as long as you know how to ask it to (and that's generally the philosophy of programming: if you know how to ask, you shall receive. Kinda applicable to all aspects of life, really), so we can write one line of code that runs an arithmetic operation like this:"
   ]
  },
  {
   "cell_type": "code",
   "execution_count": 11,
   "id": "bebba9a0",
   "metadata": {},
   "outputs": [
    {
     "data": {
      "text/plain": [
       "14"
      ]
     },
     "execution_count": 11,
     "metadata": {},
     "output_type": "execute_result"
    }
   ],
   "source": [
    "total = dr_pepper + croissant_bread + mozzarella\n",
    "total"
   ]
  },
  {
   "cell_type": "markdown",
   "id": "f8a3395c",
   "metadata": {},
   "source": [
    "So, our total budget seems to be $14 for this Kroger trip. Here's the issue: I want it to print that information out as one statement. But look what happens if I try to print out each variable:"
   ]
  },
  {
   "cell_type": "code",
   "execution_count": 12,
   "id": "5a510afa",
   "metadata": {},
   "outputs": [
    {
     "data": {
      "text/plain": [
       "14"
      ]
     },
     "execution_count": 12,
     "metadata": {},
     "output_type": "execute_result"
    }
   ],
   "source": [
    "dr_pepper\n",
    "croissant_bread\n",
    "mozzarella\n",
    "total"
   ]
  },
  {
   "cell_type": "markdown",
   "id": "b6bcfb71",
   "metadata": {},
   "source": [
    "Why is it only printing the final variable? It's because we're not really explaining what we want printed out the way that Python likes. It's nice because normally other languages just give you the silent treatment, but Python will at least give you the last variable which can be convenient as we're going along with more complex tasks and checking variable values later.\n",
    "\n",
    "But it's not helpful for us right now! I want a sentence, so am I out of luck? The thing is, that `\"Out[12]\"` statement is actually giving the output of our code, and we can create output that **print**s out statements if we're a bit more specific. There's a function for that called **print()** which we can use. So for example, if I want to just print my name:"
   ]
  },
  {
   "cell_type": "code",
   "execution_count": 14,
   "id": "7231b6c7",
   "metadata": {},
   "outputs": [
    {
     "name": "stdout",
     "output_type": "stream",
     "text": [
      "Hey, Sloka\n"
     ]
    }
   ],
   "source": [
    "print(\"Hey, Sloka\")"
   ]
  },
  {
   "cell_type": "markdown",
   "id": "ed22e551",
   "metadata": {},
   "source": [
    "... we can use **print()**! The quotation marks define a String, which is a variable that stores characters and words. What about if we want to print out multiple statements:"
   ]
  },
  {
   "cell_type": "code",
   "execution_count": 15,
   "id": "309a1b0e",
   "metadata": {},
   "outputs": [
    {
     "name": "stdout",
     "output_type": "stream",
     "text": [
      "Hey, Sloka\n",
      "I had a chicken pot pie for lunch\n"
     ]
    }
   ],
   "source": [
    "print(\"Hey, Sloka\")\n",
    "print(\"I had a chicken pot pie for lunch\")"
   ]
  },
  {
   "cell_type": "markdown",
   "id": "91883fbc",
   "metadata": {},
   "source": [
    "Both are printed out because we're explicitly telling Python to do that! Now, we can try to print out our earlier statements.\n",
    "\n",
    "Another issue is that we have those values stored, but how do we access and print those values out? Do we have to recalculate everything? What we can do instead is **string concatenation**, which is just jumbling sentences together. The same way we were adding to get our total earlier, we can add together strings (this is the *only* operation that works though and it's a special case, so don't try to start dividing and multiplying or subtracting strings now).\n",
    "\n",
    "What's also cool is that we can store Strings as their own variables:"
   ]
  },
  {
   "cell_type": "code",
   "execution_count": 19,
   "id": "79d01a70",
   "metadata": {},
   "outputs": [
    {
     "data": {
      "text/plain": [
       "'Sloka has red hair now.'"
      ]
     },
     "execution_count": 19,
     "metadata": {},
     "output_type": "execute_result"
    }
   ],
   "source": [
    "first_half = \"Sloka has \"\n",
    "second_half = \"red hair now.\"\n",
    "first_half + second_half"
   ]
  },
  {
   "cell_type": "markdown",
   "id": "cc77d502",
   "metadata": {},
   "source": [
    "There's only one more issue. Let's try to define the total:"
   ]
  },
  {
   "cell_type": "code",
   "execution_count": 20,
   "id": "0af433bf",
   "metadata": {},
   "outputs": [
    {
     "ename": "TypeError",
     "evalue": "can only concatenate str (not \"int\") to str",
     "output_type": "error",
     "traceback": [
      "\u001b[0;31m---------------------------------------------------------------------------\u001b[0m",
      "\u001b[0;31mTypeError\u001b[0m                                 Traceback (most recent call last)",
      "Cell \u001b[0;32mIn[20], line 1\u001b[0m\n\u001b[0;32m----> 1\u001b[0m \u001b[38;5;124;43m\"\u001b[39;49m\u001b[38;5;124;43mtotal: \u001b[39;49m\u001b[38;5;124;43m\"\u001b[39;49m\u001b[43m  \u001b[49m\u001b[38;5;241;43m+\u001b[39;49m\u001b[43m \u001b[49m\u001b[43mtotal\u001b[49m\n",
      "\u001b[0;31mTypeError\u001b[0m: can only concatenate str (not \"int\") to str"
     ]
    }
   ],
   "source": [
    "\"total: \"  + total"
   ]
  },
  {
   "cell_type": "markdown",
   "id": "7e4bd8f9",
   "metadata": {},
   "source": [
    "The issue is that total isn't saved as an integer. If we just wrapped it in **print(total)**, we would have had no issues, but because we have what's called *mismatched datatypes*, we need to do one more step before it works. Now, Python's having context clue trouble. So, let's try to add one more thing: we'll tell it specifically what type of data value this variable is:"
   ]
  },
  {
   "cell_type": "code",
   "execution_count": 21,
   "id": "e194f331",
   "metadata": {},
   "outputs": [
    {
     "data": {
      "text/plain": [
       "'total: 14'"
      ]
     },
     "execution_count": 21,
     "metadata": {},
     "output_type": "execute_result"
    }
   ],
   "source": [
    "\"total: \"  + str(total)"
   ]
  },
  {
   "cell_type": "markdown",
   "id": "88b9fc8a",
   "metadata": {},
   "source": [
    "This is another function, **str()**, which just tells Python that whatever we put inside should be turned into a String and treated as such.\n",
    "\n",
    "Now, we can use this new technique to print out our full list of groceries, and then the total:"
   ]
  },
  {
   "cell_type": "code",
   "execution_count": 27,
   "id": "77b564bb",
   "metadata": {},
   "outputs": [
    {
     "name": "stdout",
     "output_type": "stream",
     "text": [
      "Sloka's Grocery Shopping List:\n",
      "dr pepper - $4\n",
      "croissant bread - $7\n",
      "mozzarella - $3\n",
      "total = $14\n"
     ]
    }
   ],
   "source": [
    "print(\"Sloka's Grocery Shopping List:\")\n",
    "print(\"dr pepper - $\"  + str(dr_pepper))\n",
    "print(\"croissant bread - $\"  + str(croissant_bread))\n",
    "print(\"mozzarella - $\" + str(mozzarella))\n",
    "print(\"total = $\"  + str(total))"
   ]
  },
  {
   "cell_type": "markdown",
   "id": "2288378e",
   "metadata": {},
   "source": [
    "### Next Time: Functions\n",
    "\n",
    "You'll probably be a bit confused about what I've meant by \"function\" this whole time, and that's fine! It's similar to functions from our high school math classes where you put something in and get something out. The stuff you put in, **inputs**, will typically be transformed in some way so that you can get some **output**. We'll play around with making a function, and as we go along we'll also learn about some other cool programming techniques:\n",
    "\n",
    "    1. Control Flow (what if we want to do different operations on a case by case basis, but still automate them?)\n",
    "    2. Loops (what if we automated similar tasks to repeat a certain number of times, with only slight caveats? or maybe even none?)"
   ]
  }
 ],
 "metadata": {
  "kernelspec": {
   "display_name": "Python 3 (ipykernel)",
   "language": "python",
   "name": "python3"
  },
  "language_info": {
   "codemirror_mode": {
    "name": "ipython",
    "version": 3
   },
   "file_extension": ".py",
   "mimetype": "text/x-python",
   "name": "python",
   "nbconvert_exporter": "python",
   "pygments_lexer": "ipython3",
   "version": "3.10.9"
  }
 },
 "nbformat": 4,
 "nbformat_minor": 5
}
