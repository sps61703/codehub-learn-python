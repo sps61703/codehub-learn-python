{
 "cells": [
  {
   "cell_type": "markdown",
   "metadata": {},
   "source": [
    "This is a brief discussion of the Python programming language, which is arguably the most popular programming language in the data science community. Much of the information found in these notes is based on material found in the Python Tutorial and the Python Language Reference:\n",
    "\n",
    "*  [The Python Tutorial](https://docs.python.org/3/tutorial/)\n",
    "*  [The Python Language Reference](https://docs.python.org/3/reference/index.html#reference-index)\n"
   ]
  },
  {
   "cell_type": "markdown",
   "metadata": {},
   "source": [
    "## The Python Interpreter\n",
    "<a id='interpreter'></a>\n",
    "\n",
    "Excecution of Python programs is often performed by an **interpreter**, meaning that program statements are converted into machine executable code at **runtime** (i.e., when the program is actually run) as opposed to **compiled** into executable code before it is run by the end user. This is one of the primary ways we'll interact with Python, especially at first. We'll type some Python code and then hit the `Enter` key. This causes the code to be translated and executed. \n",
    "\n",
    "Interpretation allows great flexibility (interpreted programs can modify their source code at run time), but it's often the case that interpreted programs run much more slowly than their compiled counterparts. It's also often more difficult to find errors in interpreted programs. \n",
    "\n",
    "We can interact with the Python interpreter via a prompt, which looks something like the following.\n",
    "\n",
    "    (base) C:\\Users\\user1>python\n",
    "    Python 3.12.3 | packaged by conda-forge | (main, Apr 15 2024, 18:20:11) [MSC v.1938 64 bit (AMD64)] on win32\n",
    "    Type \"help\", \"copyright\", \"credits\" or \"license\" for more information.\n",
    "    >>> print(\"Hello World\")\n",
    "    Hello World\n",
    "    >>>\n",
    "\n",
    "Above, the `print` function prints out a string representation of the argument. The `#` denotes a comment, and the interpreter skips anything on the line after it (that is, it won't try to interpret anything after the `#`). \n",
    "\n",
    "Of course, we can save Python code into a program file and execute it later, too. \n",
    "\n",
    "\n",
    "## Jupyter Notebooks\n",
    "\n",
    "We'll also interact with Python using Jupyter Notebooks (like this one). When we hit `Run` in the menu bar, we are performing an action analogous to hitting enter from a command prompt. The code in the active cell will be executed. Users should be aware that though we are intereacting with a Web page, there is a Web server and Python enviroment running behind the scenes. This adds a later of complexity, but the ability to mix well-formatted documentation and code makes using Jupyter Notebook worthwhile.\n",
    "\n",
    "\n",
    "<a id='variables'></a>\n",
    "## Python Identifiers and Variables\n",
    "\n",
    "### Identifiers\n",
    "\n",
    "An **identifier** in Python is a string used to identify a variable, function, class, etc. in a Python program. It can be thought of as a proper name. Identifiers start with a letter (a-Z) or an underscore `_`; this first character is followed by a sequence of letters numbers, and underscores.\n",
    "\n",
    "Certain identifiers, such as `class` or `if` are builtin **keywords** and cannot be redefined by users. \n",
    "\n",
    "### Variables\n",
    "\n",
    "As in most programming languages, **variables** play a central role in Python. We need a way to store and refer to data in our programs, and variables are the primary way to do this.  Specifically, we assign data values to variables using the `=`. After the assignment has been made, we may use the variable to access the data as many times as we like. \n",
    "\n",
    "In general, the righthand side of an assignment statement is evaluated first (e.g., 1+1 is evaluated to 2), and afterwards the result is stored in the variable specified on the lefthandside. That explains why the last line below results in a value of 6 being printed. Regarding the second assignment to `blue_fish`, when evaluating the righthand side, the current value of `blue_fish` (3) is added to itself, and the resulting value is assigned to `blue_fish`, overwriting the 3."
   ]
  },
  {
   "cell_type": "markdown",
   "metadata": {},
   "source": [
    "print(\"hello world\")"
   ]
  },
  {
   "cell_type": "code",
   "execution_count": 43,
   "metadata": {},
   "outputs": [
    {
     "name": "stdout",
     "output_type": "stream",
     "text": [
      "1\n",
      "2\n",
      "3\n",
      "6\n"
     ]
    }
   ],
   "source": [
    "one_fish = 1\n",
    "two_fish = one_fish + 1\n",
    "blue_fish = one_fish + two_fish\n",
    "print(one_fish)\n",
    "print(two_fish)\n",
    "print(blue_fish)\n",
    "blue_fish = blue_fish + blue_fish\n",
    "print(blue_fish)"
   ]
  },
  {
   "cell_type": "markdown",
   "metadata": {},
   "source": [
    "### Dynamic Typing\n",
    "\n",
    "Each data value in a Python program has a **data type**.  In general, however, the data type of a variable is *not* declared, even when a value is first assigned, and it's possible for values of different types to be assigned to the same variable (though not simultaneously). Python is said to be a **dynamically typed** language.\n",
    "\n",
    "The below code is perfectly fine in Python, but assigning a number and then a string in another lanauge such as Java would cause an error."
   ]
  },
  {
   "cell_type": "code",
   "execution_count": 45,
   "metadata": {},
   "outputs": [
    {
     "name": "stdout",
     "output_type": "stream",
     "text": [
      "1\n",
      "hello\n"
     ]
    }
   ],
   "source": [
    "a = 1\n",
    "print(a)\n",
    "a = \"hello\"\n",
    "print(a)"
   ]
  },
  {
   "cell_type": "markdown",
   "metadata": {},
   "source": [
    "## Data Types\n",
    "<a id='datatypes'></a>\n",
    "\n",
    "\n",
    "\n",
    "For a given data value, we can get its type using the `type` function, which takes an argument. The below print expressions show several of the built-in data types (and how literal values are parsed by default). "
   ]
  },
  {
   "cell_type": "code",
   "execution_count": 47,
   "metadata": {},
   "outputs": [
    {
     "name": "stdout",
     "output_type": "stream",
     "text": [
      "<class 'int'>\n",
      "<class 'float'>\n",
      "<class 'complex'>\n",
      "<class 'str'>\n",
      "<class 'bool'>\n",
      "<class 'list'>\n",
      "<class 'tuple'>\n",
      "<class 'dict'>\n"
     ]
    }
   ],
   "source": [
    "print(type(1))  # an integer\n",
    "print(type(2.0)) # a float\n",
    "print(type(1 + 2j)) # a complex number\n",
    "print(type(\"hi!\")) # a string\n",
    "print(type(True)) # a boolean value \n",
    "print(type([1,2,3,4,5])) # a list (a mutable collection)\n",
    "print(type((1,2,3,4,5))) # a tuple (an immutable collection)\n",
    "print(type({\"fname\":\"john\", \"lname\":\"doe\"})) # a dictionary (a collection of key-value pairs)"
   ]
  },
  {
   "cell_type": "markdown",
   "metadata": {},
   "source": [
    "<a id='numbers'></a>\n",
    "### Numbers\n",
    "\n",
    "The basic numerical data types of python are:\n",
    "*  `int` (integer values), \n",
    "*  `float` (floating point numbers), and \n",
    "*  `complex` (complex numbers). "
   ]
  },
  {
   "cell_type": "code",
   "execution_count": 49,
   "metadata": {},
   "outputs": [
    {
     "name": "stdout",
     "output_type": "stream",
     "text": [
      "<class 'int'> :  1\n",
      "<class 'float'> :  1.0\n",
      "<class 'complex'> :  (1+2j)\n",
      "<class 'float'> :  10000000000.0\n",
      "<class 'float'> :  1.0\n",
      "<class 'complex'> :  2j\n"
     ]
    }
   ],
   "source": [
    "x = 1\n",
    "y = 1.0\n",
    "z = 1 + 2j\n",
    "w = 1E10\n",
    "v = 1.\n",
    "u = 2j\n",
    "print(type(x), \": \", x)\n",
    "print(type(y), \": \", y)\n",
    "print(type(z), \": \", z)\n",
    "print(type(w), \": \", w)\n",
    "print(type(v), \": \", v)\n",
    "print(type(u), \": \", u)"
   ]
  },
  {
   "cell_type": "code",
   "execution_count": 50,
   "metadata": {},
   "outputs": [
    {
     "data": {
      "text/plain": [
       "2.0"
      ]
     },
     "execution_count": 50,
     "metadata": {},
     "output_type": "execute_result"
    }
   ],
   "source": [
    "x + y "
   ]
  },
  {
   "cell_type": "markdown",
   "metadata": {},
   "source": [
    "In general, a number written as a simple integer will, unsurprisingly, be interpreted in Python as an `int`.\n",
    "\n",
    "Numbers written using a `.` or scientific notation are interpreted as floats. Numbers written using `j` are interpreted as complex numbers.\n",
    "\n",
    "**NOTE**: Unlike some other languages, Python 3 does not have minimum or maxium integer values (Python 2 does, however). \n",
    "\n",
    "<a id='arithmetic'></a>\n",
    "### Arithmetic\n",
    "\n",
    "The arithmetic operations available in most languages are also present in Python (with a default precedence on operations). "
   ]
  },
  {
   "cell_type": "code",
   "execution_count": 52,
   "metadata": {},
   "outputs": [
    {
     "data": {
      "text/plain": [
       "3"
      ]
     },
     "execution_count": 52,
     "metadata": {},
     "output_type": "execute_result"
    }
   ],
   "source": [
    "1+3-(3-2) # simple addition and subtraction"
   ]
  },
  {
   "cell_type": "code",
   "execution_count": 53,
   "metadata": {},
   "outputs": [
    {
     "data": {
      "text/plain": [
       "8.0"
      ]
     },
     "execution_count": 53,
     "metadata": {},
     "output_type": "execute_result"
    }
   ],
   "source": [
    "4*2.0 # multiplication of an int and a float "
   ]
  },
  {
   "cell_type": "code",
   "execution_count": 54,
   "metadata": {},
   "outputs": [
    {
     "data": {
      "text/plain": [
       "2.5"
      ]
     },
     "execution_count": 54,
     "metadata": {},
     "output_type": "execute_result"
    }
   ],
   "source": [
    "5/2 # floating point division"
   ]
  },
  {
   "cell_type": "code",
   "execution_count": 55,
   "metadata": {},
   "outputs": [
    {
     "name": "stdout",
     "output_type": "stream",
     "text": [
      "3.0\n",
      "<class 'float'>\n"
     ]
    }
   ],
   "source": [
    "print(6.1//2) # integer division\n",
    "print(type(6.1//2))"
   ]
  },
  {
   "cell_type": "code",
   "execution_count": 56,
   "metadata": {},
   "outputs": [
    {
     "data": {
      "text/plain": [
       "1"
      ]
     },
     "execution_count": 56,
     "metadata": {},
     "output_type": "execute_result"
    }
   ],
   "source": [
    "5 % 2 # modulo operator (straightforwardly, the integer remainder of 5/2)"
   ]
  },
  {
   "cell_type": "code",
   "execution_count": 57,
   "metadata": {},
   "outputs": [
    {
     "data": {
      "text/plain": [
       "1.0"
      ]
     },
     "execution_count": 57,
     "metadata": {},
     "output_type": "execute_result"
    }
   ],
   "source": [
    "5.0 % 2"
   ]
  },
  {
   "cell_type": "code",
   "execution_count": 58,
   "metadata": {},
   "outputs": [
    {
     "data": {
      "text/plain": [
       "-3"
      ]
     },
     "execution_count": 58,
     "metadata": {},
     "output_type": "execute_result"
    }
   ],
   "source": [
    "2 % -5 # (not so intuitive if negative numbers are involved)"
   ]
  },
  {
   "cell_type": "code",
   "execution_count": 59,
   "metadata": {},
   "outputs": [
    {
     "data": {
      "text/plain": [
       "16"
      ]
     },
     "execution_count": 59,
     "metadata": {},
     "output_type": "execute_result"
    }
   ],
   "source": [
    "2**4 # exponentiation"
   ]
  },
  {
   "cell_type": "markdown",
   "metadata": {},
   "source": [
    "### Data Type of results\n",
    "\n",
    "When two numbers of different types are used in an arithmetic operation, the data type is usually what one would expect, but there are some cases where it's different than either operand. For instance, though 5 and 2 are both integers, the result of `5/2` is a `float`, and the result of `5.2//2` (integer division) is a float. "
   ]
  },
  {
   "cell_type": "markdown",
   "metadata": {},
   "source": [
    "### Strings\n",
    "<a id='strings'></a>\n",
    "Strings in Python (datatype `str`) can be enclosed in single (`'`) or double (`\"`) quotes. It doesn't matter which is used, but the opening and closing marks must be of the same type. The backslash `\\` is used to escape quotes in a string as well as to indicate other escape characters (e.g., `\\n` indicates a new line). Upon printing, the string is formatted appropriately. "
   ]
  },
  {
   "cell_type": "code",
   "execution_count": 62,
   "metadata": {},
   "outputs": [
    {
     "name": "stdout",
     "output_type": "stream",
     "text": [
      "This is a string\n",
      "this is a string containing \"quotes\"\n",
      "this is another string containing \"quotes\"\n",
      "this is string\n",
      "has two lines\n"
     ]
    }
   ],
   "source": [
    "print(\"This is a string\")\n",
    "print('this is a string containing \"quotes\"')\n",
    "print(\"this is another string containing \\\"quotes\\\"\")\n",
    "print(\"this is string\\nhas two lines\")"
   ]
  },
  {
   "cell_type": "markdown",
   "metadata": {},
   "source": [
    "To prevent processing of escape characters, you can use indicate a *raw* string by putting an `r` before the string. "
   ]
  },
  {
   "cell_type": "code",
   "execution_count": 64,
   "metadata": {},
   "outputs": [
    {
     "name": "stdout",
     "output_type": "stream",
     "text": [
      "this is string\\nhas only one line\n"
     ]
    }
   ],
   "source": [
    "print(r\"this is string\\nhas only one line\")"
   ]
  },
  {
   "cell_type": "markdown",
   "metadata": {},
   "source": [
    "Multiline strings can be delineated using 3 quotes. If you do not wish to include a line end in the output, you can end the line with `\\`."
   ]
  },
  {
   "cell_type": "code",
   "execution_count": 66,
   "metadata": {},
   "outputs": [
    {
     "name": "stdout",
     "output_type": "stream",
     "text": [
      "Line 1\n",
      "Line 2\n",
      "Line 3Line 3 continued\n"
     ]
    }
   ],
   "source": [
    "print(\"\"\"Line 1\n",
    "Line 2\n",
    "Line 3\\\n",
    "Line 3 continued\"\"\")"
   ]
  },
  {
   "cell_type": "markdown",
   "metadata": {},
   "source": [
    "**Formatted Strings using `f`**\n",
    "\n",
    "Adding `f` to a string literal allows variables and function calls to be embedded into strings. \n",
    "  * See https://docs.python.org/3/tutorial/inputoutput.html"
   ]
  },
  {
   "cell_type": "code",
   "execution_count": 68,
   "metadata": {},
   "outputs": [
    {
     "name": "stdout",
     "output_type": "stream",
     "text": [
      "The value of x is 1.24\n"
     ]
    }
   ],
   "source": [
    "x = 1.23556789\n",
    "print(f\"The value of x is {x:.2f}\")"
   ]
  },
  {
   "cell_type": "markdown",
   "metadata": {},
   "source": [
    "#### String Concatenation \n",
    "Strings can be concatenated. You must be careful when trying to concatenate other types to a string, however. They must be \n",
    "converted to strings first using `str()`. "
   ]
  },
  {
   "cell_type": "code",
   "execution_count": 70,
   "metadata": {},
   "outputs": [
    {
     "name": "stdout",
     "output_type": "stream",
     "text": [
      "This line contains 4 components\n",
      "Here are some things converted to strings: 2.3, True, (1, 2)\n"
     ]
    }
   ],
   "source": [
    "print(\"This\" + \" line contains \" + str(4) + \" components\")\n",
    "print(\"Here are some things converted to strings: \" + str(2.3) + \", \" + str(True) + \", \" + str((1,2)))"
   ]
  },
  {
   "cell_type": "markdown",
   "metadata": {},
   "source": [
    "`print` can take an arbitrary number of arguments. Leveraging this eliminates the need to explicitly convert data values to strings (because we're no longer attempting to concatenate strings)."
   ]
  },
  {
   "cell_type": "code",
   "execution_count": 72,
   "metadata": {},
   "outputs": [
    {
     "name": "stdout",
     "output_type": "stream",
     "text": [
      "This line contains 4 components\n",
      "Here are some things converted to strings: 2.3 , True , (1, 2)\n"
     ]
    }
   ],
   "source": [
    "print(\"This\" , \"line contains\" , 4, \"components\")\n",
    "print(\"Here are some things converted to strings:\", 2.3, \",\", True, \",\", (1,2))"
   ]
  },
  {
   "cell_type": "markdown",
   "metadata": {},
   "source": [
    "Note, however, that `print` will by default insert a space between elements. If you wish to change the separator between items (e.g., to `,`) , add `sep=\",\"` as an argument. "
   ]
  },
  {
   "cell_type": "code",
   "execution_count": 74,
   "metadata": {},
   "outputs": [
    {
     "name": "stdout",
     "output_type": "stream",
     "text": [
      "This---line contains---4---components\n",
      "Here are some things converted to strings:---2.3---,---True---,---(1, 2)\n"
     ]
    }
   ],
   "source": [
    "print(\"This\" , \"line contains\" , 4, \"components\", sep=\"---\")\n",
    "print(\"Here are some things converted to strings:\", 2.3, \",\", True, \",\", (1,2),sep=\"---\")"
   ]
  },
  {
   "cell_type": "markdown",
   "metadata": {},
   "source": [
    "You can also create a string from another string by *multiplying* it with a number"
   ]
  },
  {
   "cell_type": "code",
   "execution_count": 76,
   "metadata": {},
   "outputs": [
    {
     "name": "stdout",
     "output_type": "stream",
     "text": [
      "abbaabbaabba\n"
     ]
    }
   ],
   "source": [
    "word1 = \"abba\"\n",
    "word2 = 3*word1\n",
    "print(word2)"
   ]
  },
  {
   "cell_type": "markdown",
   "metadata": {},
   "source": [
    "Also, if multiple **string literals** (as opposed to variables or string expressions) appear consecutively, they will be combined into one string.  "
   ]
  },
  {
   "cell_type": "code",
   "execution_count": 78,
   "metadata": {},
   "outputs": [
    {
     "name": "stdout",
     "output_type": "stream",
     "text": [
      "this is the way the world ends.\n",
      "<class 'str'>\n",
      "('this ', 'is ', 'the ', 'way ', 'the ', 'world ', 'ends.')\n",
      "<class 'tuple'>\n"
     ]
    }
   ],
   "source": [
    "a = \"this \" \"is \" \"the \" \"way \" \"the \" \"world \" \"ends.\"\n",
    "print(a)\n",
    "print(type(a))\n",
    "a = \"this \",\"is \", \"the \", \"way \", \"the \", \"world \", \"ends.\"\n",
    "print(a)\n",
    "print(type(a))\n",
    "a = \"hello world\"\n",
    "\n"
   ]
  },
  {
   "cell_type": "markdown",
   "metadata": {},
   "source": [
    "#### Substrings: Indexing and Slicing\n",
    "\n",
    "A character of a string can be extracted using an index (starting at 0), and a substring can be extracted using **slices**. Slices indicate a range of indexes. The notation is similar to that used for arrays in other languages.\n",
    "\n",
    "It also happens that indexing from the right (staring at -1) is possible. "
   ]
  },
  {
   "cell_type": "code",
   "execution_count": 80,
   "metadata": {},
   "outputs": [
    {
     "name": "stdout",
     "output_type": "stream",
     "text": [
      "w\n",
      "this\n",
      "is the way the world ends.\n",
      "this\n",
      ".\n",
      "ends\n",
      "ends.\n",
      "t\n"
     ]
    }
   ],
   "source": [
    "\n",
    "# forward  0123456789012345678901234567890 \n",
    "# reverse  1098765432109876543210987654321\n",
    "string1 = \"this is the way the world ends.\"\n",
    "print(string1[12]) # the substring at index 12 (1 character).\n",
    "print(string1[0:4]) # from the start of the string to index 4 (but 4 is excluded).\n",
    "print(string1[5:]) # from index 5 to the end of the string.  \n",
    "print(string1[:4]) # from the start of the string to index 4 (exclusive).\n",
    "print(string1[-1]) # The last character of the string. \n",
    "print(string1[-5:-1]) # from index -5 to -1 (but excluding -1).\n",
    "print(string1[-5:]) # from index -5 to the end of the string.\n",
    "print(string1[-0]) # ?"
   ]
  },
  {
   "cell_type": "markdown",
   "metadata": {},
   "source": [
    "**NOTE**: Strings are **immutable**. We cannot reassign a character or sequence in a string as we might assign values to an array in some other programming languages. When the below code is executed, an exception (error) will be raised. "
   ]
  },
  {
   "cell_type": "code",
   "execution_count": 82,
   "metadata": {},
   "outputs": [],
   "source": [
    "a = \"abc\""
   ]
  },
  {
   "cell_type": "code",
   "execution_count": 83,
   "metadata": {},
   "outputs": [
    {
     "ename": "TypeError",
     "evalue": "'str' object does not support item assignment",
     "output_type": "error",
     "traceback": [
      "\u001b[1;31m---------------------------------------------------------------------------\u001b[0m",
      "\u001b[1;31mTypeError\u001b[0m                                 Traceback (most recent call last)",
      "Cell \u001b[1;32mIn[83], line 1\u001b[0m\n\u001b[1;32m----> 1\u001b[0m a[\u001b[38;5;241m0\u001b[39m] \u001b[38;5;241m=\u001b[39m \u001b[38;5;124m\"\u001b[39m\u001b[38;5;124mb\u001b[39m\u001b[38;5;124m\"\u001b[39m\n",
      "\u001b[1;31mTypeError\u001b[0m: 'str' object does not support item assignment"
     ]
    }
   ],
   "source": [
    "a[0] = \"b\" # this will raise an exception."
   ]
  },
  {
   "cell_type": "markdown",
   "metadata": {},
   "source": [
    "#### Splitting and Joining Strings\n",
    "\n",
    "It's often the case that we want to split strings into multiple substrings, e.g., when reading a comma-delimited list of values. The `split` method of a string does just that. It retuns a list object (lists are covered later). \n",
    "\n",
    "To combine strings using a delimeter (e.g., to create a comma-delimited list), we can use `join`. "
   ]
  },
  {
   "cell_type": "code",
   "execution_count": null,
   "metadata": {},
   "outputs": [],
   "source": [
    "text = \"The quick brown fox jumped over the lazy dog\"\n",
    "spl = text.split() # This returns a list of strings (lists are covered later)\n",
    "print(spl)\n",
    "joined = \",\".join(spl) # and this re-joins them, separating words with commas \n",
    "print(joined) \n",
    "spl = joined.split(\",\") # and this re-splits them, again based on commas\n",
    "print(spl)\n",
    "joined = \"-\".join(spl) # and this re-joins them, separating words with dashes \n",
    "print(joined) \n"
   ]
  },
  {
   "cell_type": "markdown",
   "metadata": {},
   "source": [
    "Similarly, to split a multiline string into a list of lines (each a string), we can use `splitlines`. "
   ]
  },
  {
   "cell_type": "code",
   "execution_count": null,
   "metadata": {},
   "outputs": [],
   "source": [
    "lines = \"\"\"one\n",
    "two\n",
    "three\"\"\"\n",
    "li = lines.splitlines();\n",
    "print(li)"
   ]
  },
  {
   "cell_type": "markdown",
   "metadata": {},
   "source": [
    "To join strings into multiple lines, we can again use `join`. "
   ]
  },
  {
   "cell_type": "code",
   "execution_count": null,
   "metadata": {},
   "outputs": [],
   "source": [
    "lines = [\"one\", \"two\",\"three\"]\n",
    "data = \"\\n\".join(lines)\n",
    "print(data)"
   ]
  },
  {
   "cell_type": "markdown",
   "metadata": {},
   "source": [
    "<a id='boolean'></a>\n",
    "## Boolean Values, and None\n",
    "\n",
    "Python has two Boolean values, `True` and `False`. The normal logical operations (`and`, `or`, `not`) are present. "
   ]
  },
  {
   "cell_type": "code",
   "execution_count": null,
   "metadata": {},
   "outputs": [],
   "source": [
    "print(True and False)\n",
    "print(True or False)\n",
    "print(not True)"
   ]
  },
  {
   "cell_type": "markdown",
   "metadata": {},
   "source": [
    "There is also the value `None` (the only value of the `NoneType` data type). `None` is used to stand for the absence of a value. However, it can be used in place of False, as can zero numerical values (of any numerical type), empty sequences/collections (`[]`,`()`, `{}`, etc.). Other values are treated as `True`. "
   ]
  },
  {
   "cell_type": "code",
   "execution_count": null,
   "metadata": {},
   "outputs": [],
   "source": [
    "print(1 and True)\n",
    "print(True and 66)\n",
    "print(True and \"aa\")\n",
    "print(False and \"aa\")\n",
    "print(type({}))\n",
    "print(True or {})\n",
    "print(not [])\n",
    "print(True and ())\n",
    "print(True or 99)\n"
   ]
  },
  {
   "cell_type": "markdown",
   "metadata": {},
   "source": [
    "Note that Boolean expressions are **short-circuited**. As soon as the interpreter knows enough to compute the appropriate Boolean value of the expression, it stops further evaluation. Also, the retun value of the Boolean expression need not be a Boolean value, as indicated below. The value of the last item evaluated is returned. "
   ]
  },
  {
   "cell_type": "markdown",
   "metadata": {},
   "source": [
    "<a id='comparisons'></a>\n",
    "## Boolean Comparisons"
   ]
  },
  {
   "cell_type": "markdown",
   "metadata": {},
   "source": [
    "There are 8 basic comparison operations in Python.\n",
    "\n",
    "\n",
    "|  Symbol | Note | \n",
    "| --- | --- |\n",
    "| `<` |  less than | \n",
    "| `<=` | less than or equal to | \n",
    "| `>` | greater than | \n",
    "| `>=` | greater than or equal to | \n",
    "| `==` | equal to | \n",
    "| `!=` | not equal to | \n",
    "| `is` | identical to (for objects) | \n",
    "| `is not` | not identical to (for objects) | \n",
    "\n",
    "\n",
    "Regarding the first 6, these will work as expected for numerical values. Note, however, that they can be applied to other datatypes as well. Strings are compared on a character-by-character basis, based on a lexicographic ordering. Sequences such as lists are compared on an element by element basis."
   ]
  },
  {
   "cell_type": "code",
   "execution_count": null,
   "metadata": {},
   "outputs": [],
   "source": [
    "print(\"abc\" > \"ac\")\n",
    "print(\"a\" < \"1\")\n",
    "print(\"A\" < \"a\")\n",
    "print((1,1,2) < (1,1,3))"
   ]
  },
  {
   "cell_type": "markdown",
   "metadata": {},
   "source": [
    "Note that `is` is true only if the two items compared are the *same* object, whereas `==` only checks for eqaulity in a weaker sense. Below, the elements of the two lists `x` and `y` have elements that evaluate as being equal, but the two lists are nevertheless distinct in memory. As such, the first `print` statement should yield `True`, while the second should yield `False`."
   ]
  },
  {
   "cell_type": "code",
   "execution_count": 2,
   "metadata": {},
   "outputs": [
    {
     "name": "stdout",
     "output_type": "stream",
     "text": [
      "True\n",
      "False\n"
     ]
    }
   ],
   "source": [
    "x = [1,2,3]\n",
    "y = [1,2,3]\n",
    "print(x == y)\n",
    "print(x is y)"
   ]
  },
  {
   "cell_type": "markdown",
   "metadata": {},
   "source": [
    "What about strings? "
   ]
  },
  {
   "cell_type": "code",
   "execution_count": 1,
   "metadata": {},
   "outputs": [
    {
     "name": "stdout",
     "output_type": "stream",
     "text": [
      "True\n",
      "True\n"
     ]
    }
   ],
   "source": [
    "x = \"abc\"\n",
    "y = \"abc\"\n",
    "print(x == y)\n",
    "print(x is y)"
   ]
  },
  {
   "cell_type": "markdown",
   "metadata": {},
   "source": [
    "Below, `x` is assigned to `y`, and so we would expect `x is y` to be True. `z` stores a string constructed from two other strings. We should expect `x` and `z` to be two distinct objects in memory, and indeed `x is z` indicates they are. "
   ]
  },
  {
   "cell_type": "code",
   "execution_count": null,
   "metadata": {},
   "outputs": [],
   "source": [
    "x = \"hello\"\n",
    "y = x\n",
    "a = \"hel\"\n",
    "b = \"lo\"\n",
    "z = a + b\n",
    "print(\"x:\",x)\n",
    "print(\"y:\",y)\n",
    "print(\"z:\",z)"
   ]
  },
  {
   "cell_type": "code",
   "execution_count": null,
   "metadata": {},
   "outputs": [],
   "source": [
    "print(\"x==y: \", x==y)\n",
    "print(\"x==z: \", x==z)\n",
    "print(\"x is y: \", x is y)\n",
    "print(\"x is z: \", x is z)"
   ]
  },
  {
   "cell_type": "code",
   "execution_count": null,
   "metadata": {},
   "outputs": [],
   "source": [
    "w = x[:]\n",
    "print(\"x is w: \", x is w)"
   ]
  },
  {
   "cell_type": "markdown",
   "metadata": {},
   "source": [
    "### The `id()` function\n",
    "\n",
    "The `id()` function can be used to identify an object in memory. It returns an integer value that is guaranteed to uniquely identify an object for the duration of its existence. "
   ]
  },
  {
   "cell_type": "code",
   "execution_count": null,
   "metadata": {},
   "outputs": [],
   "source": [
    "print(\"id(x): \", id(x))\n",
    "print(\"id(y): \", id(y))\n",
    "print(\"id(z): \", id(z))\n",
    "print(\"id(w): \", id(w))"
   ]
  },
  {
   "cell_type": "markdown",
   "metadata": {},
   "source": [
    "<a id=\"conversions\"></a>\n",
    "## Converting between Types\n",
    "\n",
    "Values of certain data types can be converted to values of other datatypes (actually, a new value of the desired data type is produced). If the conversion cannot take place (becuase the datatypes are incompatible), an exception will be raised."
   ]
  },
  {
   "cell_type": "code",
   "execution_count": null,
   "metadata": {},
   "outputs": [],
   "source": [
    "x = 1\n",
    "s = str(x) # convert x to a string\n",
    "s_int = int(s)\n",
    "s_float = float(s)\n",
    "s_comp = complex(s)\n",
    "x_float  = float(x)\n",
    "\n",
    "print(s) \n",
    "print(s_int) # convert to an integer\n",
    "print(s_float) # convert to a floating point number\n",
    "print(s_comp) # convert to a complex number\n",
    "print(x_float)"
   ]
  },
  {
   "cell_type": "code",
   "execution_count": null,
   "metadata": {},
   "outputs": [],
   "source": [
    "# Let's check their IDs\n",
    "print(id(x))\n",
    "print(id(s))\n",
    "print(id(s_int))\n",
    "print(id(s_float))\n",
    "print(id(x_float))\n",
    "print(id(int(x_float)))"
   ]
  },
  {
   "cell_type": "code",
   "execution_count": null,
   "metadata": {},
   "outputs": [],
   "source": []
  }
 ],
 "metadata": {
  "kernelspec": {
   "display_name": "Python 3 (ipykernel)",
   "language": "python",
   "name": "python3"
  },
  "language_info": {
   "codemirror_mode": {
    "name": "ipython",
    "version": 3
   },
   "file_extension": ".py",
   "mimetype": "text/x-python",
   "name": "python",
   "nbconvert_exporter": "python",
   "pygments_lexer": "ipython3",
   "version": "3.10.9"
  }
 },
 "nbformat": 4,
 "nbformat_minor": 4
}
